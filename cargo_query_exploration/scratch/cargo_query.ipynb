{
 "metadata": {
  "language_info": {
   "codemirror_mode": {
    "name": "ipython",
    "version": 3
   },
   "file_extension": ".py",
   "mimetype": "text/x-python",
   "name": "python",
   "nbconvert_exporter": "python",
   "pygments_lexer": "ipython3",
   "version": "3.6.10-final"
  },
  "orig_nbformat": 2,
  "kernelspec": {
   "name": "python361064bitpythondataconda4cd7edf34fe4435d8aa05216486b8e87",
   "display_name": "Python 3.6.10 64-bit ('PythonData': conda)"
  }
 },
 "nbformat": 4,
 "nbformat_minor": 2,
 "cells": [
  {
   "cell_type": "code",
   "execution_count": 1,
   "metadata": {},
   "outputs": [],
   "source": [
    "import pandas as pd\n",
    "from bs4 import BeautifulSoup\n",
    "from schema import schema"
   ]
  },
  {
   "cell_type": "code",
   "execution_count": 2,
   "metadata": {},
   "outputs": [
    {
     "output_type": "execute_result",
     "data": {
      "text/plain": [
       "                  WeaponName  ElementalType           Obtain  \\\n",
       "0       <p>Absolute Aqua</p>   <p>Water</p>  <p>Crafting</p>   \n",
       "1    <p>Absolute Crimson</p>   <p>Flame</p>  <p>Crafting</p>   \n",
       "2        <p>Absolute Hex</p>  <p>Shadow</p>  <p>Crafting</p>   \n",
       "3  <p>Absolute Lightning</p>   <p>Light</p>  <p>Crafting</p>   \n",
       "4    <p>Absolute Tempest</p>    <p>Wind</p>  <p>Crafting</p>   \n",
       "\n",
       "  MaxLimitOverCount                    CreateEntity1 CreateEntityQuantity1  \\\n",
       "0          <p>1</p>   <p>Waterwyrm's Greatsphere</p>             <p>25</p>   \n",
       "1          <p>1</p>   <p>Flamewyrm's Greatsphere</p>             <p>25</p>   \n",
       "2          <p>1</p>  <p>Shadowwyrm's Greatsphere</p>             <p>25</p>   \n",
       "3          <p>1</p>   <p>Lightwyrm's Greatsphere</p>             <p>25</p>   \n",
       "4          <p>1</p>    <p>Windwyrm's Greatsphere</p>             <p>25</p>   \n",
       "\n",
       "       CreateCoin NeedFortCraftLevel        DuplicateEntity  \\\n",
       "0  <p>1200000</p>           <p>7</p>  <p>Gold Whetstone</p>   \n",
       "1  <p>1200000</p>           <p>7</p>  <p>Gold Whetstone</p>   \n",
       "2  <p>1200000</p>           <p>7</p>  <p>Gold Whetstone</p>   \n",
       "3  <p>1200000</p>           <p>7</p>  <p>Gold Whetstone</p>   \n",
       "4  <p>1200000</p>           <p>7</p>  <p>Gold Whetstone</p>   \n",
       "\n",
       "  DuplicateEntityQuantity        WeaponSeries WeaponBodyBuildupGroupId  \n",
       "0                <p>1</p>  <p>High Dragon</p>               <p>702</p>  \n",
       "1                <p>1</p>  <p>High Dragon</p>               <p>701</p>  \n",
       "2                <p>1</p>  <p>High Dragon</p>               <p>705</p>  \n",
       "3                <p>1</p>  <p>High Dragon</p>               <p>704</p>  \n",
       "4                <p>1</p>  <p>High Dragon</p>               <p>703</p>  "
      ],
      "text/html": "<div>\n<style scoped>\n    .dataframe tbody tr th:only-of-type {\n        vertical-align: middle;\n    }\n\n    .dataframe tbody tr th {\n        vertical-align: top;\n    }\n\n    .dataframe thead th {\n        text-align: right;\n    }\n</style>\n<table border=\"1\" class=\"dataframe\">\n  <thead>\n    <tr style=\"text-align: right;\">\n      <th></th>\n      <th>WeaponName</th>\n      <th>ElementalType</th>\n      <th>Obtain</th>\n      <th>MaxLimitOverCount</th>\n      <th>CreateEntity1</th>\n      <th>CreateEntityQuantity1</th>\n      <th>CreateCoin</th>\n      <th>NeedFortCraftLevel</th>\n      <th>DuplicateEntity</th>\n      <th>DuplicateEntityQuantity</th>\n      <th>WeaponSeries</th>\n      <th>WeaponBodyBuildupGroupId</th>\n    </tr>\n  </thead>\n  <tbody>\n    <tr>\n      <th>0</th>\n      <td>&lt;p&gt;Absolute Aqua&lt;/p&gt;</td>\n      <td>&lt;p&gt;Water&lt;/p&gt;</td>\n      <td>&lt;p&gt;Crafting&lt;/p&gt;</td>\n      <td>&lt;p&gt;1&lt;/p&gt;</td>\n      <td>&lt;p&gt;Waterwyrm's Greatsphere&lt;/p&gt;</td>\n      <td>&lt;p&gt;25&lt;/p&gt;</td>\n      <td>&lt;p&gt;1200000&lt;/p&gt;</td>\n      <td>&lt;p&gt;7&lt;/p&gt;</td>\n      <td>&lt;p&gt;Gold Whetstone&lt;/p&gt;</td>\n      <td>&lt;p&gt;1&lt;/p&gt;</td>\n      <td>&lt;p&gt;High Dragon&lt;/p&gt;</td>\n      <td>&lt;p&gt;702&lt;/p&gt;</td>\n    </tr>\n    <tr>\n      <th>1</th>\n      <td>&lt;p&gt;Absolute Crimson&lt;/p&gt;</td>\n      <td>&lt;p&gt;Flame&lt;/p&gt;</td>\n      <td>&lt;p&gt;Crafting&lt;/p&gt;</td>\n      <td>&lt;p&gt;1&lt;/p&gt;</td>\n      <td>&lt;p&gt;Flamewyrm's Greatsphere&lt;/p&gt;</td>\n      <td>&lt;p&gt;25&lt;/p&gt;</td>\n      <td>&lt;p&gt;1200000&lt;/p&gt;</td>\n      <td>&lt;p&gt;7&lt;/p&gt;</td>\n      <td>&lt;p&gt;Gold Whetstone&lt;/p&gt;</td>\n      <td>&lt;p&gt;1&lt;/p&gt;</td>\n      <td>&lt;p&gt;High Dragon&lt;/p&gt;</td>\n      <td>&lt;p&gt;701&lt;/p&gt;</td>\n    </tr>\n    <tr>\n      <th>2</th>\n      <td>&lt;p&gt;Absolute Hex&lt;/p&gt;</td>\n      <td>&lt;p&gt;Shadow&lt;/p&gt;</td>\n      <td>&lt;p&gt;Crafting&lt;/p&gt;</td>\n      <td>&lt;p&gt;1&lt;/p&gt;</td>\n      <td>&lt;p&gt;Shadowwyrm's Greatsphere&lt;/p&gt;</td>\n      <td>&lt;p&gt;25&lt;/p&gt;</td>\n      <td>&lt;p&gt;1200000&lt;/p&gt;</td>\n      <td>&lt;p&gt;7&lt;/p&gt;</td>\n      <td>&lt;p&gt;Gold Whetstone&lt;/p&gt;</td>\n      <td>&lt;p&gt;1&lt;/p&gt;</td>\n      <td>&lt;p&gt;High Dragon&lt;/p&gt;</td>\n      <td>&lt;p&gt;705&lt;/p&gt;</td>\n    </tr>\n    <tr>\n      <th>3</th>\n      <td>&lt;p&gt;Absolute Lightning&lt;/p&gt;</td>\n      <td>&lt;p&gt;Light&lt;/p&gt;</td>\n      <td>&lt;p&gt;Crafting&lt;/p&gt;</td>\n      <td>&lt;p&gt;1&lt;/p&gt;</td>\n      <td>&lt;p&gt;Lightwyrm's Greatsphere&lt;/p&gt;</td>\n      <td>&lt;p&gt;25&lt;/p&gt;</td>\n      <td>&lt;p&gt;1200000&lt;/p&gt;</td>\n      <td>&lt;p&gt;7&lt;/p&gt;</td>\n      <td>&lt;p&gt;Gold Whetstone&lt;/p&gt;</td>\n      <td>&lt;p&gt;1&lt;/p&gt;</td>\n      <td>&lt;p&gt;High Dragon&lt;/p&gt;</td>\n      <td>&lt;p&gt;704&lt;/p&gt;</td>\n    </tr>\n    <tr>\n      <th>4</th>\n      <td>&lt;p&gt;Absolute Tempest&lt;/p&gt;</td>\n      <td>&lt;p&gt;Wind&lt;/p&gt;</td>\n      <td>&lt;p&gt;Crafting&lt;/p&gt;</td>\n      <td>&lt;p&gt;1&lt;/p&gt;</td>\n      <td>&lt;p&gt;Windwyrm's Greatsphere&lt;/p&gt;</td>\n      <td>&lt;p&gt;25&lt;/p&gt;</td>\n      <td>&lt;p&gt;1200000&lt;/p&gt;</td>\n      <td>&lt;p&gt;7&lt;/p&gt;</td>\n      <td>&lt;p&gt;Gold Whetstone&lt;/p&gt;</td>\n      <td>&lt;p&gt;1&lt;/p&gt;</td>\n      <td>&lt;p&gt;High Dragon&lt;/p&gt;</td>\n      <td>&lt;p&gt;703&lt;/p&gt;</td>\n    </tr>\n  </tbody>\n</table>\n</div>"
     },
     "metadata": {},
     "execution_count": 2
    }
   ],
   "source": [
    "pd.read_json(\"https://dragalialost.gamepedia.com/Special:CargoExport?tables=Weapons%2C&&fields=Weapons.Name%3DWeaponName%2C+%2C+Weapons.ElementalType%2C+Weapons.Obtain%2C+Weapons.MaxLimitOverCount%2C+Weapons.CreateEntity1%2C+Weapons.CreateEntityQuantity1%2C+Weapons.CreateCoin%2C+Weapons.NeedFortCraftLevel%2C+Weapons.DuplicateEntity%2C+Weapons.DuplicateEntityQuantity%2C+Weapons.WeaponSeries%2C+Weapons.WeaponBodyBuildupGroupId%2C&&order+by=%60cargo__Weapons%60.%60Name%60%2C%60cargo__Weapons%60.%60ElementalType%60%2C%60cargo__Weapons%60.%60Obtain%60%2C%60cargo__Weapons%60.%60MaxLimitOverCount%60%2C%60cargo__Weapons%60.%60CreateEntity1%60&limit=5&format=json&parse+values=on\")"
   ]
  },
  {
   "cell_type": "code",
   "execution_count": 2,
   "metadata": {},
   "outputs": [
    {
     "output_type": "execute_result",
     "data": {
      "text/plain": [
       "['Weapons.Id',\n",
       " 'Weapons.Name',\n",
       " 'Weapons.NameJP',\n",
       " 'Weapons.WeaponSeries',\n",
       " 'Weapons.WeaponSeriesId',\n",
       " 'Weapons.WeaponSkinId',\n",
       " 'Weapons.WeaponType',\n",
       " 'Weapons.WeaponTypeId',\n",
       " 'Weapons.Rarity',\n",
       " 'Weapons.ElementalType',\n",
       " 'Weapons.ElementalTypeId',\n",
       " 'Weapons.Obtain',\n",
       " 'Weapons.MaxLimitOverCount',\n",
       " 'Weapons.BaseHp',\n",
       " 'Weapons.MaxHp1',\n",
       " 'Weapons.MaxHp2',\n",
       " 'Weapons.MaxHp3',\n",
       " 'Weapons.BaseAtk',\n",
       " 'Weapons.MaxAtk1',\n",
       " 'Weapons.MaxAtk2',\n",
       " 'Weapons.MaxAtk3',\n",
       " 'Weapons.LimitOverCountPartyPower1',\n",
       " 'Weapons.LimitOverCountPartyPower2',\n",
       " 'Weapons.CrestSlotType1BaseCount',\n",
       " 'Weapons.CrestSlotType1MaxCount',\n",
       " 'Weapons.CrestSlotType2BaseCount',\n",
       " 'Weapons.CrestSlotType2MaxCount',\n",
       " 'Weapons.ChangeSkillId1',\n",
       " 'Weapons.ChangeSkillId2',\n",
       " 'Weapons.ChangeSkillId3',\n",
       " 'Weapons.Abilities11',\n",
       " 'Weapons.Abilities12',\n",
       " 'Weapons.Abilities13',\n",
       " 'Weapons.Abilities21',\n",
       " 'Weapons.Abilities22',\n",
       " 'Weapons.Abilities23',\n",
       " 'Weapons.IsPlayable',\n",
       " 'Weapons.Text',\n",
       " 'Weapons.CreateStartDate',\n",
       " 'Weapons.NeedFortCraftLevel',\n",
       " 'Weapons.NeedCreateWeaponBodyId1',\n",
       " 'Weapons.NeedCreateWeaponBodyId2',\n",
       " 'Weapons.NeedAllUnlockWeaponBodyId1',\n",
       " 'Weapons.CreateCoin',\n",
       " 'Weapons.CreateEntity1',\n",
       " 'Weapons.CreateEntityQuantity1',\n",
       " 'Weapons.CreateEntity2',\n",
       " 'Weapons.CreateEntityQuantity2',\n",
       " 'Weapons.CreateEntity3',\n",
       " 'Weapons.CreateEntityQuantity3',\n",
       " 'Weapons.CreateEntity4',\n",
       " 'Weapons.CreateEntityQuantity4',\n",
       " 'Weapons.CreateEntity5',\n",
       " 'Weapons.CreateEntityQuantity5',\n",
       " 'Weapons.DuplicateEntity',\n",
       " 'Weapons.DuplicateEntityQuantity',\n",
       " 'Weapons.WeaponPassiveAbilityGroupId',\n",
       " 'Weapons.WeaponBodyBuildupGroupId',\n",
       " 'Weapons.MaxWeaponPassiveCharaCount',\n",
       " 'Weapons.WeaponPassiveEffHp',\n",
       " 'Weapons.WeaponPassiveEffAtk',\n",
       " 'Weapons.RewardWeaponSkinId1',\n",
       " 'Weapons.RewardWeaponSkinId2',\n",
       " 'Weapons.RewardWeaponSkinId3',\n",
       " 'Weapons.RewardWeaponSkinId4',\n",
       " 'Weapons.RewardWeaponSkinId5']"
      ]
     },
     "metadata": {},
     "execution_count": 2
    }
   ],
   "source": [
    "schema['Weapons']"
   ]
  },
  {
   "cell_type": "code",
   "execution_count": 4,
   "metadata": {},
   "outputs": [],
   "source": [
    "import requests\n",
    "\n",
    "url=\"https://dragalialost.gamepedia.com/Special:CargoExport\"\n",
    "params = {\n",
    "    \"format\": \"json\",\n",
    "    \"tables\": \"Weapons, \",\n",
    "    \"fields\": \", \".join(schema[\"Weapons\"]),\n",
    "    \"limit\": 1000\n",
    "}\n",
    "\n",
    "response = requests.get(url, params)"
   ]
  },
  {
   "cell_type": "code",
   "execution_count": 3,
   "metadata": {},
   "outputs": [
    {
     "output_type": "execute_result",
     "data": {
      "text/plain": [
       "           WeaponName ElementalType    Obtain  MaxLimitOverCount  \\\n",
       "0       Absolute Aqua         Water  Crafting                  1   \n",
       "1    Absolute Crimson         Flame  Crafting                  1   \n",
       "2        Absolute Hex        Shadow  Crafting                  1   \n",
       "3  Absolute Lightning         Light  Crafting                  1   \n",
       "4    Absolute Tempest          Wind  Crafting                  1   \n",
       "\n",
       "              CreateEntity1  CreateEntityQuantity1  CreateCoin  \\\n",
       "0   Waterwyrm's Greatsphere                     25     1200000   \n",
       "1   Flamewyrm's Greatsphere                     25     1200000   \n",
       "2  Shadowwyrm's Greatsphere                     25     1200000   \n",
       "3   Lightwyrm's Greatsphere                     25     1200000   \n",
       "4    Windwyrm's Greatsphere                     25     1200000   \n",
       "\n",
       "   NeedFortCraftLevel DuplicateEntity  DuplicateEntityQuantity WeaponSeries  \\\n",
       "0                   7  Gold Whetstone                        1  High Dragon   \n",
       "1                   7  Gold Whetstone                        1  High Dragon   \n",
       "2                   7  Gold Whetstone                        1  High Dragon   \n",
       "3                   7  Gold Whetstone                        1  High Dragon   \n",
       "4                   7  Gold Whetstone                        1  High Dragon   \n",
       "\n",
       "   WeaponBodyBuildupGroupId  \n",
       "0                       702  \n",
       "1                       701  \n",
       "2                       705  \n",
       "3                       704  \n",
       "4                       703  "
      ],
      "text/html": "<div>\n<style scoped>\n    .dataframe tbody tr th:only-of-type {\n        vertical-align: middle;\n    }\n\n    .dataframe tbody tr th {\n        vertical-align: top;\n    }\n\n    .dataframe thead th {\n        text-align: right;\n    }\n</style>\n<table border=\"1\" class=\"dataframe\">\n  <thead>\n    <tr style=\"text-align: right;\">\n      <th></th>\n      <th>WeaponName</th>\n      <th>ElementalType</th>\n      <th>Obtain</th>\n      <th>MaxLimitOverCount</th>\n      <th>CreateEntity1</th>\n      <th>CreateEntityQuantity1</th>\n      <th>CreateCoin</th>\n      <th>NeedFortCraftLevel</th>\n      <th>DuplicateEntity</th>\n      <th>DuplicateEntityQuantity</th>\n      <th>WeaponSeries</th>\n      <th>WeaponBodyBuildupGroupId</th>\n    </tr>\n  </thead>\n  <tbody>\n    <tr>\n      <th>0</th>\n      <td>Absolute Aqua</td>\n      <td>Water</td>\n      <td>Crafting</td>\n      <td>1</td>\n      <td>Waterwyrm's Greatsphere</td>\n      <td>25</td>\n      <td>1200000</td>\n      <td>7</td>\n      <td>Gold Whetstone</td>\n      <td>1</td>\n      <td>High Dragon</td>\n      <td>702</td>\n    </tr>\n    <tr>\n      <th>1</th>\n      <td>Absolute Crimson</td>\n      <td>Flame</td>\n      <td>Crafting</td>\n      <td>1</td>\n      <td>Flamewyrm's Greatsphere</td>\n      <td>25</td>\n      <td>1200000</td>\n      <td>7</td>\n      <td>Gold Whetstone</td>\n      <td>1</td>\n      <td>High Dragon</td>\n      <td>701</td>\n    </tr>\n    <tr>\n      <th>2</th>\n      <td>Absolute Hex</td>\n      <td>Shadow</td>\n      <td>Crafting</td>\n      <td>1</td>\n      <td>Shadowwyrm's Greatsphere</td>\n      <td>25</td>\n      <td>1200000</td>\n      <td>7</td>\n      <td>Gold Whetstone</td>\n      <td>1</td>\n      <td>High Dragon</td>\n      <td>705</td>\n    </tr>\n    <tr>\n      <th>3</th>\n      <td>Absolute Lightning</td>\n      <td>Light</td>\n      <td>Crafting</td>\n      <td>1</td>\n      <td>Lightwyrm's Greatsphere</td>\n      <td>25</td>\n      <td>1200000</td>\n      <td>7</td>\n      <td>Gold Whetstone</td>\n      <td>1</td>\n      <td>High Dragon</td>\n      <td>704</td>\n    </tr>\n    <tr>\n      <th>4</th>\n      <td>Absolute Tempest</td>\n      <td>Wind</td>\n      <td>Crafting</td>\n      <td>1</td>\n      <td>Windwyrm's Greatsphere</td>\n      <td>25</td>\n      <td>1200000</td>\n      <td>7</td>\n      <td>Gold Whetstone</td>\n      <td>1</td>\n      <td>High Dragon</td>\n      <td>703</td>\n    </tr>\n  </tbody>\n</table>\n</div>"
     },
     "metadata": {},
     "execution_count": 3
    }
   ],
   "source": [
    "pd.read_json(\"https://dragalialost.gamepedia.com/Special:CargoExport?tables=Weapons%2C&&fields=Weapons.Name%3DWeaponName%2C+%2C+Weapons.ElementalType%2C+Weapons.Obtain%2C+Weapons.MaxLimitOverCount%2C+Weapons.CreateEntity1%2C+Weapons.CreateEntityQuantity1%2C+Weapons.CreateCoin%2C+Weapons.NeedFortCraftLevel%2C+Weapons.DuplicateEntity%2C+Weapons.DuplicateEntityQuantity%2C+Weapons.WeaponSeries%2C+Weapons.WeaponBodyBuildupGroupId%2C&&order+by=%60cargo__Weapons%60.%60Name%60%2C%60cargo__Weapons%60.%60ElementalType%60%2C%60cargo__Weapons%60.%60Obtain%60%2C%60cargo__Weapons%60.%60MaxLimitOverCount%60%2C%60cargo__Weapons%60.%60CreateEntity1%60&limit=5&format=json\")"
   ]
  },
  {
   "cell_type": "code",
   "execution_count": 5,
   "metadata": {},
   "outputs": [
    {
     "output_type": "execute_result",
     "data": {
      "text/plain": [
       "'https://dragalialost.gamepedia.com/Special:CargoExport?format=json&tables=Weapons%2C+&fields=Weapons.Id%2C+Weapons.Name%2C+Weapons.NameJP%2C+Weapons.WeaponSeries%2C+Weapons.WeaponSeriesId%2C+Weapons.WeaponSkinId%2C+Weapons.WeaponType%2C+Weapons.WeaponTypeId%2C+Weapons.Rarity%2C+Weapons.ElementalType%2C+Weapons.ElementalTypeId%2C+Weapons.Obtain%2C+Weapons.MaxLimitOverCount%2C+Weapons.BaseHp%2C+Weapons.MaxHp1%2C+Weapons.MaxHp2%2C+Weapons.MaxHp3%2C+Weapons.BaseAtk%2C+Weapons.MaxAtk1%2C+Weapons.MaxAtk2%2C+Weapons.MaxAtk3%2C+Weapons.LimitOverCountPartyPower1%2C+Weapons.LimitOverCountPartyPower2%2C+Weapons.CrestSlotType1BaseCount%2C+Weapons.CrestSlotType1MaxCount%2C+Weapons.CrestSlotType2BaseCount%2C+Weapons.CrestSlotType2MaxCount%2C+Weapons.ChangeSkillId1%2C+Weapons.ChangeSkillId2%2C+Weapons.ChangeSkillId3%2C+Weapons.Abilities11%2C+Weapons.Abilities12%2C+Weapons.Abilities13%2C+Weapons.Abilities21%2C+Weapons.Abilities22%2C+Weapons.Abilities23%2C+Weapons.IsPlayable%2C+Weapons.Text%2C+Weapons.CreateStartDate%2C+Weapons.NeedFortCraftLevel%2C+Weapons.NeedCreateWeaponBodyId1%2C+Weapons.NeedCreateWeaponBodyId2%2C+Weapons.NeedAllUnlockWeaponBodyId1%2C+Weapons.CreateCoin%2C+Weapons.CreateEntity1%2C+Weapons.CreateEntityQuantity1%2C+Weapons.CreateEntity2%2C+Weapons.CreateEntityQuantity2%2C+Weapons.CreateEntity3%2C+Weapons.CreateEntityQuantity3%2C+Weapons.CreateEntity4%2C+Weapons.CreateEntityQuantity4%2C+Weapons.CreateEntity5%2C+Weapons.CreateEntityQuantity5%2C+Weapons.DuplicateEntity%2C+Weapons.DuplicateEntityQuantity%2C+Weapons.WeaponPassiveAbilityGroupId%2C+Weapons.WeaponBodyBuildupGroupId%2C+Weapons.MaxWeaponPassiveCharaCount%2C+Weapons.WeaponPassiveEffHp%2C+Weapons.WeaponPassiveEffAtk%2C+Weapons.RewardWeaponSkinId1%2C+Weapons.RewardWeaponSkinId2%2C+Weapons.RewardWeaponSkinId3%2C+Weapons.RewardWeaponSkinId4%2C+Weapons.RewardWeaponSkinId5&limit=1000'"
      ]
     },
     "metadata": {},
     "execution_count": 5
    }
   ],
   "source": [
    "response.url"
   ]
  },
  {
   "cell_type": "code",
   "execution_count": 13,
   "metadata": {},
   "outputs": [],
   "source": [
    "weapons = pd.read_json(response.url)"
   ]
  },
  {
   "cell_type": "code",
   "execution_count": 14,
   "metadata": {},
   "outputs": [
    {
     "output_type": "execute_result",
     "data": {
      "text/plain": [
       "         Id              Name    NameJP WeaponSeries  WeaponSeriesId  \\\n",
       "0  30119901  Battleworn Sword   使い古された剣        Other               6   \n",
       "1  30129901   Soldier's Brand  ソルジャーソード        Other               6   \n",
       "2  30139901    Knight's Sword    ナイツソード         Core               1   \n",
       "3  30149901    Knights' Grace    騎士長の麗剣         Core               1   \n",
       "4  30150101          Levatein   レーヴァテイン         Core               1   \n",
       "\n",
       "   WeaponSkinId WeaponType  WeaponTypeId  Rarity ElementalType  ...  \\\n",
       "0      30119901      Sword             1       1          None  ...   \n",
       "1      30129901      Sword             1       2          None  ...   \n",
       "2      30139901      Sword             1       3          None  ...   \n",
       "3      30149901      Sword             1       4          None  ...   \n",
       "4      30150101      Sword             1       5         Flame  ...   \n",
       "\n",
       "   WeaponBodyBuildupGroupId MaxWeaponPassiveCharaCount  WeaponPassiveEffHp  \\\n",
       "0                         0                          0                   0   \n",
       "1                       900                          0                   0   \n",
       "2                       110                          0                   0   \n",
       "3                       210                          0                   0   \n",
       "4                       411                          1                   1   \n",
       "\n",
       "   WeaponPassiveEffAtk  RewardWeaponSkinId1  RewardWeaponSkinId2  \\\n",
       "0                    0                    0                    0   \n",
       "1                    0                    0                    0   \n",
       "2                    0             30139903             30139902   \n",
       "3                    0             30149902             30149903   \n",
       "4                    1             30130102             30140104   \n",
       "\n",
       "   RewardWeaponSkinId3  RewardWeaponSkinId4  RewardWeaponSkinId5  \\\n",
       "0                    0                    0                    0   \n",
       "1                    0                    0                    0   \n",
       "2                    0                    0                    0   \n",
       "3                    0                    0                    0   \n",
       "4                    0                    0                    0   \n",
       "\n",
       "   CreateStartDate__precision  \n",
       "0                           0  \n",
       "1                           0  \n",
       "2                           0  \n",
       "3                           0  \n",
       "4                           0  \n",
       "\n",
       "[5 rows x 67 columns]"
      ],
      "text/html": "<div>\n<style scoped>\n    .dataframe tbody tr th:only-of-type {\n        vertical-align: middle;\n    }\n\n    .dataframe tbody tr th {\n        vertical-align: top;\n    }\n\n    .dataframe thead th {\n        text-align: right;\n    }\n</style>\n<table border=\"1\" class=\"dataframe\">\n  <thead>\n    <tr style=\"text-align: right;\">\n      <th></th>\n      <th>Id</th>\n      <th>Name</th>\n      <th>NameJP</th>\n      <th>WeaponSeries</th>\n      <th>WeaponSeriesId</th>\n      <th>WeaponSkinId</th>\n      <th>WeaponType</th>\n      <th>WeaponTypeId</th>\n      <th>Rarity</th>\n      <th>ElementalType</th>\n      <th>...</th>\n      <th>WeaponBodyBuildupGroupId</th>\n      <th>MaxWeaponPassiveCharaCount</th>\n      <th>WeaponPassiveEffHp</th>\n      <th>WeaponPassiveEffAtk</th>\n      <th>RewardWeaponSkinId1</th>\n      <th>RewardWeaponSkinId2</th>\n      <th>RewardWeaponSkinId3</th>\n      <th>RewardWeaponSkinId4</th>\n      <th>RewardWeaponSkinId5</th>\n      <th>CreateStartDate__precision</th>\n    </tr>\n  </thead>\n  <tbody>\n    <tr>\n      <th>0</th>\n      <td>30119901</td>\n      <td>Battleworn Sword</td>\n      <td>使い古された剣</td>\n      <td>Other</td>\n      <td>6</td>\n      <td>30119901</td>\n      <td>Sword</td>\n      <td>1</td>\n      <td>1</td>\n      <td>None</td>\n      <td>...</td>\n      <td>0</td>\n      <td>0</td>\n      <td>0</td>\n      <td>0</td>\n      <td>0</td>\n      <td>0</td>\n      <td>0</td>\n      <td>0</td>\n      <td>0</td>\n      <td>0</td>\n    </tr>\n    <tr>\n      <th>1</th>\n      <td>30129901</td>\n      <td>Soldier's Brand</td>\n      <td>ソルジャーソード</td>\n      <td>Other</td>\n      <td>6</td>\n      <td>30129901</td>\n      <td>Sword</td>\n      <td>1</td>\n      <td>2</td>\n      <td>None</td>\n      <td>...</td>\n      <td>900</td>\n      <td>0</td>\n      <td>0</td>\n      <td>0</td>\n      <td>0</td>\n      <td>0</td>\n      <td>0</td>\n      <td>0</td>\n      <td>0</td>\n      <td>0</td>\n    </tr>\n    <tr>\n      <th>2</th>\n      <td>30139901</td>\n      <td>Knight's Sword</td>\n      <td>ナイツソード</td>\n      <td>Core</td>\n      <td>1</td>\n      <td>30139901</td>\n      <td>Sword</td>\n      <td>1</td>\n      <td>3</td>\n      <td>None</td>\n      <td>...</td>\n      <td>110</td>\n      <td>0</td>\n      <td>0</td>\n      <td>0</td>\n      <td>30139903</td>\n      <td>30139902</td>\n      <td>0</td>\n      <td>0</td>\n      <td>0</td>\n      <td>0</td>\n    </tr>\n    <tr>\n      <th>3</th>\n      <td>30149901</td>\n      <td>Knights' Grace</td>\n      <td>騎士長の麗剣</td>\n      <td>Core</td>\n      <td>1</td>\n      <td>30149901</td>\n      <td>Sword</td>\n      <td>1</td>\n      <td>4</td>\n      <td>None</td>\n      <td>...</td>\n      <td>210</td>\n      <td>0</td>\n      <td>0</td>\n      <td>0</td>\n      <td>30149902</td>\n      <td>30149903</td>\n      <td>0</td>\n      <td>0</td>\n      <td>0</td>\n      <td>0</td>\n    </tr>\n    <tr>\n      <th>4</th>\n      <td>30150101</td>\n      <td>Levatein</td>\n      <td>レーヴァテイン</td>\n      <td>Core</td>\n      <td>1</td>\n      <td>30150101</td>\n      <td>Sword</td>\n      <td>1</td>\n      <td>5</td>\n      <td>Flame</td>\n      <td>...</td>\n      <td>411</td>\n      <td>1</td>\n      <td>1</td>\n      <td>1</td>\n      <td>30130102</td>\n      <td>30140104</td>\n      <td>0</td>\n      <td>0</td>\n      <td>0</td>\n      <td>0</td>\n    </tr>\n  </tbody>\n</table>\n<p>5 rows × 67 columns</p>\n</div>"
     },
     "metadata": {},
     "execution_count": 14
    }
   ],
   "source": [
    "weapons.head()"
   ]
  },
  {
   "cell_type": "code",
   "execution_count": 25,
   "metadata": {
    "tags": []
   },
   "outputs": [],
   "source": [
    "dfs = {}\n",
    "url=\"https://dragalialost.gamepedia.com/Special:CargoExport\"\n",
    "params = {\n",
    "    \"format\": \"json\",\n",
    "    \"limit\": 10000\n",
    "}\n",
    "for i in schema.keys():\n",
    "    params[\"tables\"] = i\n",
    "    params[\"fields\"] = \", \".join(schema[i])\n",
    "    dfs[i] = pd.read_json(requests.Request('GET', url, params=params).prepare().url)"
   ]
  },
  {
   "cell_type": "code",
   "execution_count": 26,
   "metadata": {},
   "outputs": [
    {
     "output_type": "execute_result",
     "data": {
      "text/plain": [
       "dict_keys(['ABRCharacter', 'Abilities', 'AbilityGroup', 'AbilityLimitedGroup', 'Adventurers', 'AffinityBonus', 'Art', 'CampaignQuestHeaders', 'CargoTest', 'CastleStories', 'ChainCoAbilities', 'CharaLimitBreak', 'CoAbilities', 'Comics', 'Conditions', 'Consumables', 'DailyRewardChest', 'Dragons', 'DropRewards', 'EndeavorSets', 'EndeavorSetsRow', 'EndeavorSetsTest', 'EnemiesTest', 'EnemyPageLinks', 'EventQuestHeaders', 'Events', 'Facilities', 'Gifts', 'LoadingTips', 'MCMaterials', 'MCNodeType', 'MCNodes', 'MaintenanceNotices', 'ManaCircleNodes', 'ManaPieceElement', 'Materials', 'NPCs', 'News', 'Quests', 'SecondaryEvents', 'Skills', 'Stories', 'StoryLines', 'SummonShowcase', 'TestingTable', 'VersionChangelogs', 'WeaponBodyBuildupGroup', 'WeaponBodyBuildupLevel', 'WeaponBodyRarity', 'WeaponPassiveAbility', 'WeaponSkin', 'Weapons', 'Weaponsv1', 'WyrmprintBuildupGroup', 'WyrmprintBuildupLevel', 'WyrmprintRarity', 'WyrmprintTrade', 'Wyrmprints', 'Wyrmprintsv1'])"
      ]
     },
     "metadata": {},
     "execution_count": 26
    }
   ],
   "source": [
    "\n",
    "dfs.keys()"
   ]
  },
  {
   "cell_type": "code",
   "execution_count": 27,
   "metadata": {},
   "outputs": [],
   "source": [
    "for i in dfs.keys():\n",
    "    dfs[i].to_csv(f\"data/csv/{i}.csv\",index=False)"
   ]
  },
  {
   "cell_type": "code",
   "execution_count": null,
   "metadata": {},
   "outputs": [],
   "source": []
  }
 ]
}